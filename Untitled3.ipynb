{
 "cells": [
  {
   "cell_type": "code",
   "execution_count": null,
   "id": "4954fc69",
   "metadata": {},
   "outputs": [],
   "source": [
    "# 1 Задача) Известно, что генеральная совокупность распределена нормально со средним квадратическим отклонением, равным 16.\n",
    "# Найти доверительный интервал для оценки математического ожидания a с надежностью 0.95, если выборочная средняя M = 80,\n",
    "# а объем выборки n = 256."
   ]
  },
  {
   "cell_type": "code",
   "execution_count": 1,
   "id": "8af6e94b",
   "metadata": {},
   "outputs": [],
   "source": [
    "import pandas as pd\n",
    "from scipy import stats\n",
    "import numpy as np"
   ]
  },
  {
   "cell_type": "code",
   "execution_count": 5,
   "id": "a5889d8e",
   "metadata": {},
   "outputs": [],
   "source": [
    "x_mean = 80\n",
    "n = 256\n",
    "sig = 16\n",
    "alph = 1.96 #(1 - 0,95 = 0,05)"
   ]
  },
  {
   "cell_type": "code",
   "execution_count": 6,
   "id": "ac48ffe0",
   "metadata": {},
   "outputs": [
    {
     "data": {
      "text/plain": [
       "1.959963984540054"
      ]
     },
     "execution_count": 6,
     "metadata": {},
     "output_type": "execute_result"
    }
   ],
   "source": [
    "stats.norm.ppf(0.975)"
   ]
  },
  {
   "cell_type": "code",
   "execution_count": 7,
   "id": "786f3efc",
   "metadata": {},
   "outputs": [
    {
     "data": {
      "text/plain": [
       "81.96"
      ]
     },
     "execution_count": 7,
     "metadata": {},
     "output_type": "execute_result"
    }
   ],
   "source": [
    "# выполняем z-расчет (известна ген.слвлкупность)\n",
    "up_int = x_mean + alph * sig / np.sqrt(n)\n",
    "up_int #верхний интервал"
   ]
  },
  {
   "cell_type": "code",
   "execution_count": 8,
   "id": "11bb6ca4",
   "metadata": {},
   "outputs": [
    {
     "data": {
      "text/plain": [
       "78.04"
      ]
     },
     "execution_count": 8,
     "metadata": {},
     "output_type": "execute_result"
    }
   ],
   "source": [
    "low_int = x_mean - alph * sig / np.sqrt(n)\n",
    "low_int # нижний интервал"
   ]
  },
  {
   "cell_type": "code",
   "execution_count": null,
   "id": "e8f59c79",
   "metadata": {},
   "outputs": [],
   "source": [
    "#2 Задача 2"
   ]
  },
  {
   "cell_type": "code",
   "execution_count": 9,
   "id": "0019e121",
   "metadata": {},
   "outputs": [],
   "source": [
    "a = np.array([6.9, 6.1, 6.2, 6.8, 7.5, 6.3, 6.4, 6.9, 6.7, 6.1])"
   ]
  },
  {
   "cell_type": "code",
   "execution_count": 10,
   "id": "b9156473",
   "metadata": {},
   "outputs": [
    {
     "data": {
      "text/plain": [
       "6.590000000000001"
      ]
     },
     "execution_count": 10,
     "metadata": {},
     "output_type": "execute_result"
    }
   ],
   "source": [
    "a_mean = np.mean(a) #среднее значение\n",
    "a_mean"
   ]
  },
  {
   "cell_type": "code",
   "execution_count": 11,
   "id": "8110ecb6",
   "metadata": {},
   "outputs": [
    {
     "data": {
      "text/plain": [
       "0.2032222222222223"
      ]
     },
     "execution_count": 11,
     "metadata": {},
     "output_type": "execute_result"
    }
   ],
   "source": [
    "D = np.var(a, ddof=1) # дисперсия\n",
    "D"
   ]
  },
  {
   "cell_type": "code",
   "execution_count": 12,
   "id": "dd09884d",
   "metadata": {},
   "outputs": [
    {
     "data": {
      "text/plain": [
       "2.2621571627409915"
      ]
     },
     "execution_count": 12,
     "metadata": {},
     "output_type": "execute_result"
    }
   ],
   "source": [
    "t = stats.t.ppf(0.975, 9) #(10-1)степеней свободы\n",
    "t"
   ]
  },
  {
   "cell_type": "code",
   "execution_count": 13,
   "id": "8e2bae96",
   "metadata": {},
   "outputs": [
    {
     "data": {
      "text/plain": [
       "6.267515851415713"
      ]
     },
     "execution_count": 13,
     "metadata": {},
     "output_type": "execute_result"
    }
   ],
   "source": [
    "# используем t критерий ( ген. совокупность не известна)\n",
    "x_1 = a_mean - t * np.sqrt(D/10)\n",
    "x_1 #нижняя граница"
   ]
  },
  {
   "cell_type": "code",
   "execution_count": 14,
   "id": "b9f355e3",
   "metadata": {},
   "outputs": [],
   "source": [
    "# 3 задача"
   ]
  },
  {
   "cell_type": "code",
   "execution_count": 27,
   "id": "bddfb508",
   "metadata": {},
   "outputs": [],
   "source": [
    "heigh_D = np.array([175, 167, 154, 174, 178, 148, 160, 167, 169, 170])\n",
    "heigh_M = np.array([178, 165, 165, 173, 168, 155, 160, 164, 178, 175])"
   ]
  },
  {
   "cell_type": "code",
   "execution_count": 28,
   "id": "96ae5368",
   "metadata": {},
   "outputs": [
    {
     "data": {
      "text/plain": [
       "166.2"
      ]
     },
     "execution_count": 28,
     "metadata": {},
     "output_type": "execute_result"
    }
   ],
   "source": [
    "mean_D = np.mean(heigh_D)\n",
    "mean_D"
   ]
  },
  {
   "cell_type": "code",
   "execution_count": 29,
   "id": "08f395a6",
   "metadata": {},
   "outputs": [
    {
     "data": {
      "text/plain": [
       "168.1"
      ]
     },
     "execution_count": 29,
     "metadata": {},
     "output_type": "execute_result"
    }
   ],
   "source": [
    "mean_M = np.mean(heigh_M)\n",
    "mean_M"
   ]
  },
  {
   "cell_type": "code",
   "execution_count": 30,
   "id": "b2442d73",
   "metadata": {},
   "outputs": [
    {
     "data": {
      "text/plain": [
       "1.9000000000000057"
      ]
     },
     "execution_count": 30,
     "metadata": {},
     "output_type": "execute_result"
    }
   ],
   "source": [
    "delta = mean_M - mean_D\n",
    "delta"
   ]
  },
  {
   "cell_type": "code",
   "execution_count": 31,
   "id": "a696d2e5",
   "metadata": {},
   "outputs": [
    {
     "data": {
      "text/plain": [
       "2.10092204024096"
      ]
     },
     "execution_count": 31,
     "metadata": {},
     "output_type": "execute_result"
    }
   ],
   "source": [
    "t = stats.t.ppf(0.975, 18) #(20-2) степеней свободы\n",
    "t"
   ]
  },
  {
   "cell_type": "code",
   "execution_count": 33,
   "id": "13d0f8c4",
   "metadata": {},
   "outputs": [
    {
     "data": {
      "text/plain": [
       "91.06666666666666"
      ]
     },
     "execution_count": 33,
     "metadata": {},
     "output_type": "execute_result"
    }
   ],
   "source": [
    "#Дисперсии выборок\n",
    "\n",
    "d_heigh_D = np.var(heigh_D, ddof=1)\n",
    "d_heigh_D"
   ]
  },
  {
   "cell_type": "code",
   "execution_count": 34,
   "id": "6b93deea",
   "metadata": {},
   "outputs": [
    {
     "data": {
      "text/plain": [
       "60.10000000000001"
      ]
     },
     "execution_count": 34,
     "metadata": {},
     "output_type": "execute_result"
    }
   ],
   "source": [
    "d_heigh_M = np.var(heigh_M, ddof=1)\n",
    "d_heigh_M"
   ]
  },
  {
   "cell_type": "code",
   "execution_count": 35,
   "id": "de26f0ec",
   "metadata": {},
   "outputs": [
    {
     "data": {
      "text/plain": [
       "75.58333333333334"
      ]
     },
     "execution_count": 35,
     "metadata": {},
     "output_type": "execute_result"
    }
   ],
   "source": [
    "d_heigh = (d_heigh_D + d_heigh_M)/2\n",
    "d_heigh"
   ]
  },
  {
   "cell_type": "code",
   "execution_count": 36,
   "id": "a75883c3",
   "metadata": {},
   "outputs": [
    {
     "data": {
      "text/plain": [
       "3.8880157750022915"
      ]
     },
     "execution_count": 36,
     "metadata": {},
     "output_type": "execute_result"
    }
   ],
   "source": [
    "SE = np.sqrt(d_heigh/10 + d_heigh/10)\n",
    "SE"
   ]
  },
  {
   "cell_type": "code",
   "execution_count": 37,
   "id": "5dc2f53a",
   "metadata": {},
   "outputs": [
    {
     "data": {
      "text/plain": [
       "-6.268418034506846"
      ]
     },
     "execution_count": 37,
     "metadata": {},
     "output_type": "execute_result"
    }
   ],
   "source": [
    "#нижняя граница\n",
    "L = delta - t * SE\n",
    "L"
   ]
  },
  {
   "cell_type": "code",
   "execution_count": 38,
   "id": "d94856e1",
   "metadata": {},
   "outputs": [
    {
     "data": {
      "text/plain": [
       "10.068418034506857"
      ]
     },
     "execution_count": 38,
     "metadata": {},
     "output_type": "execute_result"
    }
   ],
   "source": [
    "#Верхняя граница\n",
    "U = delta + t * SE\n",
    "U"
   ]
  },
  {
   "cell_type": "code",
   "execution_count": null,
   "id": "5fc42270",
   "metadata": {},
   "outputs": [],
   "source": []
  }
 ],
 "metadata": {
  "kernelspec": {
   "display_name": "Python 3 (ipykernel)",
   "language": "python",
   "name": "python3"
  },
  "language_info": {
   "codemirror_mode": {
    "name": "ipython",
    "version": 3
   },
   "file_extension": ".py",
   "mimetype": "text/x-python",
   "name": "python",
   "nbconvert_exporter": "python",
   "pygments_lexer": "ipython3",
   "version": "3.9.13"
  }
 },
 "nbformat": 4,
 "nbformat_minor": 5
}
